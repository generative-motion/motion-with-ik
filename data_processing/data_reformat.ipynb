{
 "cells": [
  {
   "cell_type": "code",
   "execution_count": null,
   "metadata": {},
   "outputs": [],
   "source": [
    "import numpy as np\n",
    "import os\n",
    "import json\n",
    "import sys"
   ]
  },
  {
   "cell_type": "code",
   "execution_count": null,
   "metadata": {},
   "outputs": [],
   "source": [
    "def read_input(file_path):\n",
    "    with open(file_path) as json_data:\n",
    "        d = json.loads(json_data)\n",
    "\n",
    "    return d['positions'], d['rotations'], d['parents'], d['foot_contact']\n",
    "\n",
    "\n",
    "def conv_rig(positions):\n",
    "\n",
    "\n",
    "def get_bone(positions, bone):\n",
    "\n",
    "\n",
    "def (positions):\n"
   ]
  }
 ],
 "metadata": {
  "kernelspec": {
   "display_name": "pytorch3d",
   "language": "python",
   "name": "python3"
  },
  "language_info": {
   "name": "python",
   "version": "3.9.16"
  }
 },
 "nbformat": 4,
 "nbformat_minor": 2
}
