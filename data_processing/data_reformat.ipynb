{
 "cells": [
  {
   "cell_type": "code",
   "execution_count": 5,
   "metadata": {},
   "outputs": [],
   "source": [
    "import numpy as np\n",
    "import os\n",
    "import json\n",
    "import sys\n",
    "import torch"
   ]
  },
  {
   "cell_type": "code",
   "execution_count": 26,
   "metadata": {},
   "outputs": [],
   "source": [
    "def read_input(file_path):\n",
    "    with open(file_path) as json_data:\n",
    "        d = json.load(json_data)\n",
    "\n",
    "    return d['positions'], d['rotations'], d['parents'], d['foot_contact']\n",
    "\n",
    "def main():\n",
    "    # reading all data\n",
    "    file_path = \"C:\\\\Users\\\\eggyr\\\\OneDrive\\\\RPI\\\\S10\\\\Projects in ML\\\\final\\\\lafan1_detail_model_benchmark_5_0-2231.json\"\n",
    "    all_orig_positions, all_orig_rotations, parents, all_foot_contact = read_input(file_path)\n",
    "    all_orig_positions = np.array(all_orig_positions)\n",
    "    all_orig_rotations = np.array(all_orig_rotations)\n",
    "    new_joints = 10\n",
    "    all_new_positions = np.array((all_orig_positions.shape[0], all_orig_positions.shape[1], new_joints, 3))\n",
    "    all_new_rotations = np.array((all_orig_rotations.shape[0], all_orig_rotations.shape[1], new_joints, 3))\n",
    "    print(f'original positions shape: {all_orig_positions.shape}')\n",
    "\n",
    "    all_new_positions, all_new_rotations = conv_rig(all_orig_positions, all_orig_rotations, parents)\n",
    "    #print(f\"all pos: {all_new_positions}\\nall rot: {all_new_rotations}\")\n",
    "    return\n",
    "    for sequence in range(all_orig_positions.shape[0]):\n",
    "        all_new_positions[sequence], all_new_rotations[sequence] = conv_rig(all_orig_positions[sequence], all_orig_rotations[sequence], parents)\n",
    "        print(f\"all pos: {all_new_positions}\\nall rot: {all_new_rotations}\")\n",
    "        return\n",
    "\n",
    "\n",
    "def conv_rig(positions, rotations, parents):\n",
    "    # takes in original positions and rotations and returns the new representation of positions and rotations\n",
    "    global_rot, global_pos = fk_torch(torch.from_numpy(rotations), torch.from_numpy(positions), parents)\n",
    "    global_pos = global_pos.numpy()\n",
    "    global_rot = global_rot.numpy()\n",
    "    print(f\"all pos {global_pos.shape}: {global_pos}\\nall rot {global_rot.shape}: {global_rot}\")\n",
    "    return global_pos, global_rot\n",
    "\n",
    "    \n",
    "def fk_torch(lrot, lpos, parents):\n",
    "    \"\"\"\n",
    "    Calculate forward kinematics.\n",
    "\n",
    "    Args:\n",
    "        lrot (Tensor): Local rotation of joints. Shape: (..., joints, 3, 3)\n",
    "        lpos (Tensor): Local position of joints. Shape: (..., joints, 3)\n",
    "        parents (list of int or 1D int Tensor): Parent indices.\n",
    "\n",
    "    Returns:\n",
    "        Tensor, Tensor: (global rotation, global position).\n",
    "            Shape: (..., joints, 3, 3), (..., joints, 3)\n",
    "    \"\"\"\n",
    "    gr = [lrot[..., :1, :, :]]\n",
    "    gp = [lpos[..., :1, :]]\n",
    "\n",
    "    print(f'{gr[0].shape}, {gp[0].shape}')\n",
    "\n",
    "    for i in range(1, len(parents)):\n",
    "        gr_parent = gr[parents[i]]\n",
    "        gp_parent = gp[parents[i]]\n",
    "\n",
    "        gr_i = torch.matmul(gr_parent, lrot[..., i:i + 1, :, :])\n",
    "        gp_i = gp_parent + \\\n",
    "            torch.matmul(gr_parent, lpos[..., i:i + 1, :, None]).squeeze(-1)\n",
    "\n",
    "        gr.append(gr_i)\n",
    "        gp.append(gp_i)\n",
    "\n",
    "    return torch.cat(gr, dim=-3), torch.cat(gp, dim=-2)"
   ]
  },
  {
   "cell_type": "code",
   "execution_count": 27,
   "metadata": {},
   "outputs": [
    {
     "name": "stdout",
     "output_type": "stream",
     "text": [
      "original positions shape: (2232, 17, 22, 3)\n"
     ]
    },
    {
     "ename": "AttributeError",
     "evalue": "'list' object has no attribute 'shape'",
     "output_type": "error",
     "traceback": [
      "\u001b[1;31m---------------------------------------------------------------------------\u001b[0m",
      "\u001b[1;31mAttributeError\u001b[0m                            Traceback (most recent call last)",
      "Cell \u001b[1;32mIn[27], line 1\u001b[0m\n\u001b[1;32m----> 1\u001b[0m \u001b[43mmain\u001b[49m\u001b[43m(\u001b[49m\u001b[43m)\u001b[49m\n",
      "Cell \u001b[1;32mIn[26], line 18\u001b[0m, in \u001b[0;36mmain\u001b[1;34m()\u001b[0m\n\u001b[0;32m     15\u001b[0m all_new_rotations \u001b[38;5;241m=\u001b[39m np\u001b[38;5;241m.\u001b[39marray((all_orig_rotations\u001b[38;5;241m.\u001b[39mshape[\u001b[38;5;241m0\u001b[39m], all_orig_rotations\u001b[38;5;241m.\u001b[39mshape[\u001b[38;5;241m1\u001b[39m], new_joints, \u001b[38;5;241m3\u001b[39m))\n\u001b[0;32m     16\u001b[0m \u001b[38;5;28mprint\u001b[39m(\u001b[38;5;124mf\u001b[39m\u001b[38;5;124m'\u001b[39m\u001b[38;5;124moriginal positions shape: \u001b[39m\u001b[38;5;132;01m{\u001b[39;00mall_orig_positions\u001b[38;5;241m.\u001b[39mshape\u001b[38;5;132;01m}\u001b[39;00m\u001b[38;5;124m'\u001b[39m)\n\u001b[1;32m---> 18\u001b[0m all_new_positions, all_new_rotations \u001b[38;5;241m=\u001b[39m \u001b[43mconv_rig\u001b[49m\u001b[43m(\u001b[49m\u001b[43mall_orig_positions\u001b[49m\u001b[43m,\u001b[49m\u001b[43m \u001b[49m\u001b[43mall_orig_rotations\u001b[49m\u001b[43m,\u001b[49m\u001b[43m \u001b[49m\u001b[43mparents\u001b[49m\u001b[43m)\u001b[49m\n\u001b[0;32m     19\u001b[0m \u001b[38;5;66;03m#print(f\"all pos: {all_new_positions}\\nall rot: {all_new_rotations}\")\u001b[39;00m\n\u001b[0;32m     20\u001b[0m \u001b[38;5;28;01mreturn\u001b[39;00m\n",
      "Cell \u001b[1;32mIn[26], line 29\u001b[0m, in \u001b[0;36mconv_rig\u001b[1;34m(positions, rotations, parents)\u001b[0m\n\u001b[0;32m     27\u001b[0m \u001b[38;5;28;01mdef\u001b[39;00m \u001b[38;5;21mconv_rig\u001b[39m(positions, rotations, parents):\n\u001b[0;32m     28\u001b[0m     \u001b[38;5;66;03m# takes in original positions and rotations and returns the new representation of positions and rotations\u001b[39;00m\n\u001b[1;32m---> 29\u001b[0m     global_rot, global_pos \u001b[38;5;241m=\u001b[39m \u001b[43mfk_torch\u001b[49m\u001b[43m(\u001b[49m\u001b[43mtorch\u001b[49m\u001b[38;5;241;43m.\u001b[39;49m\u001b[43mfrom_numpy\u001b[49m\u001b[43m(\u001b[49m\u001b[43mrotations\u001b[49m\u001b[43m)\u001b[49m\u001b[43m,\u001b[49m\u001b[43m \u001b[49m\u001b[43mtorch\u001b[49m\u001b[38;5;241;43m.\u001b[39;49m\u001b[43mfrom_numpy\u001b[49m\u001b[43m(\u001b[49m\u001b[43mpositions\u001b[49m\u001b[43m)\u001b[49m\u001b[43m,\u001b[49m\u001b[43m \u001b[49m\u001b[43mparents\u001b[49m\u001b[43m)\u001b[49m\n\u001b[0;32m     30\u001b[0m     global_pos \u001b[38;5;241m=\u001b[39m global_pos\u001b[38;5;241m.\u001b[39mnumpy()\n\u001b[0;32m     31\u001b[0m     global_rot \u001b[38;5;241m=\u001b[39m global_rot\u001b[38;5;241m.\u001b[39mnumpy()\n",
      "Cell \u001b[1;32mIn[26], line 52\u001b[0m, in \u001b[0;36mfk_torch\u001b[1;34m(lrot, lpos, parents)\u001b[0m\n\u001b[0;32m     49\u001b[0m gr \u001b[38;5;241m=\u001b[39m [lrot[\u001b[38;5;241m.\u001b[39m\u001b[38;5;241m.\u001b[39m\u001b[38;5;241m.\u001b[39m, :\u001b[38;5;241m1\u001b[39m, :, :]]\n\u001b[0;32m     50\u001b[0m gp \u001b[38;5;241m=\u001b[39m [lpos[\u001b[38;5;241m.\u001b[39m\u001b[38;5;241m.\u001b[39m\u001b[38;5;241m.\u001b[39m, :\u001b[38;5;241m1\u001b[39m, :]]\n\u001b[1;32m---> 52\u001b[0m \u001b[38;5;28mprint\u001b[39m(\u001b[38;5;124mf\u001b[39m\u001b[38;5;124m'\u001b[39m\u001b[38;5;132;01m{\u001b[39;00mgr\u001b[38;5;241m.\u001b[39mshape\u001b[38;5;132;01m}\u001b[39;00m\u001b[38;5;124m, \u001b[39m\u001b[38;5;132;01m{\u001b[39;00mgp\u001b[38;5;241m.\u001b[39mshape\u001b[38;5;132;01m}\u001b[39;00m\u001b[38;5;124m'\u001b[39m)\n\u001b[0;32m     54\u001b[0m \u001b[38;5;28;01mfor\u001b[39;00m i \u001b[38;5;129;01min\u001b[39;00m \u001b[38;5;28mrange\u001b[39m(\u001b[38;5;241m1\u001b[39m, \u001b[38;5;28mlen\u001b[39m(parents)):\n\u001b[0;32m     55\u001b[0m     gr_parent \u001b[38;5;241m=\u001b[39m gr[parents[i]]\n",
      "\u001b[1;31mAttributeError\u001b[0m: 'list' object has no attribute 'shape'"
     ]
    }
   ],
   "source": [
    "main()"
   ]
  }
 ],
 "metadata": {
  "kernelspec": {
   "display_name": "pytorch3d",
   "language": "python",
   "name": "python3"
  },
  "language_info": {
   "codemirror_mode": {
    "name": "ipython",
    "version": 3
   },
   "file_extension": ".py",
   "mimetype": "text/x-python",
   "name": "python",
   "nbconvert_exporter": "python",
   "pygments_lexer": "ipython3",
   "version": "3.9.16"
  }
 },
 "nbformat": 4,
 "nbformat_minor": 2
}
